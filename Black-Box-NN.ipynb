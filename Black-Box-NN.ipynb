{
  "cells": [
    {
      "cell_type": "code",
      "execution_count": 99,
      "id": "240182c8",
      "metadata": {
        "id": "240182c8"
      },
      "outputs": [],
      "source": [
        "import numpy as np\n",
        "import pandas as pd\n",
        "import matplotlib.pyplot as plt\n",
        "import scipy\n",
        "from sklearn import preprocessing\n",
        "from   keras.models import Sequential\n",
        "from   keras.layers import Dense \n",
        "from sklearn.metrics import mean_squared_error\n",
        "from keras.metrics import mean_squared_error as mse"
      ]
    },
    {
      "cell_type": "code",
      "execution_count": 2,
      "id": "e8680007",
      "metadata": {
        "colab": {
          "base_uri": "https://localhost:8080/",
          "height": 73
        },
        "id": "e8680007",
        "outputId": "9023549c-9f27-42d9-b8a1-e88e4448459d"
      },
      "outputs": [
        {
          "output_type": "display_data",
          "data": {
            "text/plain": [
              "<IPython.core.display.HTML object>"
            ],
            "text/html": [
              "\n",
              "     <input type=\"file\" id=\"files-51684ff2-4926-4810-a560-592987bd7495\" name=\"files[]\" multiple disabled\n",
              "        style=\"border:none\" />\n",
              "     <output id=\"result-51684ff2-4926-4810-a560-592987bd7495\">\n",
              "      Upload widget is only available when the cell has been executed in the\n",
              "      current browser session. Please rerun this cell to enable.\n",
              "      </output>\n",
              "      <script>// Copyright 2017 Google LLC\n",
              "//\n",
              "// Licensed under the Apache License, Version 2.0 (the \"License\");\n",
              "// you may not use this file except in compliance with the License.\n",
              "// You may obtain a copy of the License at\n",
              "//\n",
              "//      http://www.apache.org/licenses/LICENSE-2.0\n",
              "//\n",
              "// Unless required by applicable law or agreed to in writing, software\n",
              "// distributed under the License is distributed on an \"AS IS\" BASIS,\n",
              "// WITHOUT WARRANTIES OR CONDITIONS OF ANY KIND, either express or implied.\n",
              "// See the License for the specific language governing permissions and\n",
              "// limitations under the License.\n",
              "\n",
              "/**\n",
              " * @fileoverview Helpers for google.colab Python module.\n",
              " */\n",
              "(function(scope) {\n",
              "function span(text, styleAttributes = {}) {\n",
              "  const element = document.createElement('span');\n",
              "  element.textContent = text;\n",
              "  for (const key of Object.keys(styleAttributes)) {\n",
              "    element.style[key] = styleAttributes[key];\n",
              "  }\n",
              "  return element;\n",
              "}\n",
              "\n",
              "// Max number of bytes which will be uploaded at a time.\n",
              "const MAX_PAYLOAD_SIZE = 100 * 1024;\n",
              "\n",
              "function _uploadFiles(inputId, outputId) {\n",
              "  const steps = uploadFilesStep(inputId, outputId);\n",
              "  const outputElement = document.getElementById(outputId);\n",
              "  // Cache steps on the outputElement to make it available for the next call\n",
              "  // to uploadFilesContinue from Python.\n",
              "  outputElement.steps = steps;\n",
              "\n",
              "  return _uploadFilesContinue(outputId);\n",
              "}\n",
              "\n",
              "// This is roughly an async generator (not supported in the browser yet),\n",
              "// where there are multiple asynchronous steps and the Python side is going\n",
              "// to poll for completion of each step.\n",
              "// This uses a Promise to block the python side on completion of each step,\n",
              "// then passes the result of the previous step as the input to the next step.\n",
              "function _uploadFilesContinue(outputId) {\n",
              "  const outputElement = document.getElementById(outputId);\n",
              "  const steps = outputElement.steps;\n",
              "\n",
              "  const next = steps.next(outputElement.lastPromiseValue);\n",
              "  return Promise.resolve(next.value.promise).then((value) => {\n",
              "    // Cache the last promise value to make it available to the next\n",
              "    // step of the generator.\n",
              "    outputElement.lastPromiseValue = value;\n",
              "    return next.value.response;\n",
              "  });\n",
              "}\n",
              "\n",
              "/**\n",
              " * Generator function which is called between each async step of the upload\n",
              " * process.\n",
              " * @param {string} inputId Element ID of the input file picker element.\n",
              " * @param {string} outputId Element ID of the output display.\n",
              " * @return {!Iterable<!Object>} Iterable of next steps.\n",
              " */\n",
              "function* uploadFilesStep(inputId, outputId) {\n",
              "  const inputElement = document.getElementById(inputId);\n",
              "  inputElement.disabled = false;\n",
              "\n",
              "  const outputElement = document.getElementById(outputId);\n",
              "  outputElement.innerHTML = '';\n",
              "\n",
              "  const pickedPromise = new Promise((resolve) => {\n",
              "    inputElement.addEventListener('change', (e) => {\n",
              "      resolve(e.target.files);\n",
              "    });\n",
              "  });\n",
              "\n",
              "  const cancel = document.createElement('button');\n",
              "  inputElement.parentElement.appendChild(cancel);\n",
              "  cancel.textContent = 'Cancel upload';\n",
              "  const cancelPromise = new Promise((resolve) => {\n",
              "    cancel.onclick = () => {\n",
              "      resolve(null);\n",
              "    };\n",
              "  });\n",
              "\n",
              "  // Wait for the user to pick the files.\n",
              "  const files = yield {\n",
              "    promise: Promise.race([pickedPromise, cancelPromise]),\n",
              "    response: {\n",
              "      action: 'starting',\n",
              "    }\n",
              "  };\n",
              "\n",
              "  cancel.remove();\n",
              "\n",
              "  // Disable the input element since further picks are not allowed.\n",
              "  inputElement.disabled = true;\n",
              "\n",
              "  if (!files) {\n",
              "    return {\n",
              "      response: {\n",
              "        action: 'complete',\n",
              "      }\n",
              "    };\n",
              "  }\n",
              "\n",
              "  for (const file of files) {\n",
              "    const li = document.createElement('li');\n",
              "    li.append(span(file.name, {fontWeight: 'bold'}));\n",
              "    li.append(span(\n",
              "        `(${file.type || 'n/a'}) - ${file.size} bytes, ` +\n",
              "        `last modified: ${\n",
              "            file.lastModifiedDate ? file.lastModifiedDate.toLocaleDateString() :\n",
              "                                    'n/a'} - `));\n",
              "    const percent = span('0% done');\n",
              "    li.appendChild(percent);\n",
              "\n",
              "    outputElement.appendChild(li);\n",
              "\n",
              "    const fileDataPromise = new Promise((resolve) => {\n",
              "      const reader = new FileReader();\n",
              "      reader.onload = (e) => {\n",
              "        resolve(e.target.result);\n",
              "      };\n",
              "      reader.readAsArrayBuffer(file);\n",
              "    });\n",
              "    // Wait for the data to be ready.\n",
              "    let fileData = yield {\n",
              "      promise: fileDataPromise,\n",
              "      response: {\n",
              "        action: 'continue',\n",
              "      }\n",
              "    };\n",
              "\n",
              "    // Use a chunked sending to avoid message size limits. See b/62115660.\n",
              "    let position = 0;\n",
              "    do {\n",
              "      const length = Math.min(fileData.byteLength - position, MAX_PAYLOAD_SIZE);\n",
              "      const chunk = new Uint8Array(fileData, position, length);\n",
              "      position += length;\n",
              "\n",
              "      const base64 = btoa(String.fromCharCode.apply(null, chunk));\n",
              "      yield {\n",
              "        response: {\n",
              "          action: 'append',\n",
              "          file: file.name,\n",
              "          data: base64,\n",
              "        },\n",
              "      };\n",
              "\n",
              "      let percentDone = fileData.byteLength === 0 ?\n",
              "          100 :\n",
              "          Math.round((position / fileData.byteLength) * 100);\n",
              "      percent.textContent = `${percentDone}% done`;\n",
              "\n",
              "    } while (position < fileData.byteLength);\n",
              "  }\n",
              "\n",
              "  // All done.\n",
              "  yield {\n",
              "    response: {\n",
              "      action: 'complete',\n",
              "    }\n",
              "  };\n",
              "}\n",
              "\n",
              "scope.google = scope.google || {};\n",
              "scope.google.colab = scope.google.colab || {};\n",
              "scope.google.colab._files = {\n",
              "  _uploadFiles,\n",
              "  _uploadFilesContinue,\n",
              "};\n",
              "})(self);\n",
              "</script> "
            ]
          },
          "metadata": {}
        },
        {
          "output_type": "stream",
          "name": "stdout",
          "text": [
            "Saving ICC Test Batting Figures.xlsx to ICC Test Batting Figures.xlsx\n"
          ]
        }
      ],
      "source": [
        "from google.colab import files\n",
        "uploaded = files.upload()"
      ]
    },
    {
      "cell_type": "code",
      "execution_count": 5,
      "id": "1f25aa31",
      "metadata": {
        "id": "1f25aa31"
      },
      "outputs": [],
      "source": [
        "import io\n",
        "df = pd.read_excel(io.BytesIO(uploaded[\"ICC Test Batting Figures.xlsx\"]))"
      ]
    },
    {
      "cell_type": "code",
      "execution_count": 6,
      "id": "6bc5da0f",
      "metadata": {
        "id": "6bc5da0f"
      },
      "outputs": [],
      "source": [
        "df.columns.tolist()\n",
        "df.rename(columns = {100:'100', 50 : '50', 0: '0' }, inplace = True)"
      ]
    },
    {
      "cell_type": "code",
      "execution_count": 129,
      "id": "f73b5dd2",
      "metadata": {
        "id": "f73b5dd2"
      },
      "outputs": [],
      "source": [
        "def df_preprocessing(df, var_index = -1):\n",
        "    columns = df.columns.tolist()\n",
        "    X = df[columns]\n",
        "    X[['100','50','0','NO']] = X[['100','50','0','NO']].astype('int64')\n",
        "    y = df[['Runs']].to_numpy()\n",
        "    scaler = preprocessing.MinMaxScaler()\n",
        "    X_new = scaler.fit_transform(X)\n",
        "    Y_new = scaler.fit_transform(y)\n",
        "    if var_index != -1:\n",
        "        return X_new[var_index], Y_new[var_index]\n",
        "    else:\n",
        "        return X_new, Y_new"
      ]
    },
    {
      "cell_type": "code",
      "execution_count": 130,
      "id": "3d1559e4",
      "metadata": {
        "id": "3d1559e4",
        "colab": {
          "base_uri": "https://localhost:8080/"
        },
        "outputId": "12c712be-d684-4692-ed3d-d5072c761b76"
      },
      "outputs": [
        {
          "output_type": "execute_result",
          "data": {
            "text/plain": [
              "((2235, 7), (746, 7), (2235, 1), (746, 1))"
            ]
          },
          "metadata": {},
          "execution_count": 130
        }
      ],
      "source": [
        "from sklearn.model_selection import train_test_split\n",
        "X, y = df_preprocessing(df)\n",
        "X_train, X_test,y_train, y_test = train_test_split(X,y)\n",
        "X_train.shape, X_test.shape, y_train.shape, y_test.shape\n",
        "\n"
      ]
    },
    {
      "cell_type": "code",
      "execution_count": 131,
      "id": "23b74a04",
      "metadata": {
        "id": "23b74a04"
      },
      "outputs": [],
      "source": [
        "features = df.columns.tolist()"
      ]
    },
    {
      "cell_type": "code",
      "execution_count": 135,
      "id": "4f7fd051",
      "metadata": {
        "id": "4f7fd051"
      },
      "outputs": [],
      "source": [
        "input_dim        = X_train.shape[1] \n",
        "n_neurons        =  25    \n",
        "epochs           = 10"
      ]
    },
    {
      "cell_type": "code",
      "execution_count": 136,
      "id": "cdb8431e",
      "metadata": {
        "id": "cdb8431e"
      },
      "outputs": [],
      "source": [
        "model = Sequential()\n",
        "model.add(Dense(n_neurons, input_dim=input_dim, \n",
        "                kernel_initializer='normal', \n",
        "                activation='relu'))\n",
        "model.add(Dense(units=5, kernel_initializer='normal', activation='relu'))\n",
        "model.add(Dense(1, kernel_initializer='normal'))\n",
        "\n",
        "model.compile(loss='mean_squared_error', optimizer='adam')"
      ]
    },
    {
      "cell_type": "code",
      "execution_count": 137,
      "id": "6d56ed5c",
      "metadata": {
        "id": "6d56ed5c",
        "colab": {
          "base_uri": "https://localhost:8080/"
        },
        "outputId": "d869a5d0-5a9e-40d6-f15a-42b9aec4326a"
      },
      "outputs": [
        {
          "output_type": "stream",
          "name": "stdout",
          "text": [
            "Epoch 1/10\n",
            "70/70 [==============================] - 1s 2ms/step - loss: 0.0100\n",
            "Epoch 2/10\n",
            "70/70 [==============================] - 0s 2ms/step - loss: 0.0055\n",
            "Epoch 3/10\n",
            "70/70 [==============================] - 0s 2ms/step - loss: 9.8455e-04\n",
            "Epoch 4/10\n",
            "70/70 [==============================] - 0s 2ms/step - loss: 2.1070e-04\n",
            "Epoch 5/10\n",
            "70/70 [==============================] - 0s 2ms/step - loss: 6.2870e-05\n",
            "Epoch 6/10\n",
            "70/70 [==============================] - 0s 2ms/step - loss: 3.6269e-05\n",
            "Epoch 7/10\n",
            "70/70 [==============================] - 0s 2ms/step - loss: 2.9547e-05\n",
            "Epoch 8/10\n",
            "70/70 [==============================] - 0s 2ms/step - loss: 2.6897e-05\n",
            "Epoch 9/10\n",
            "70/70 [==============================] - 0s 2ms/step - loss: 2.4162e-05\n",
            "Epoch 10/10\n",
            "70/70 [==============================] - 0s 2ms/step - loss: 2.1998e-05\n"
          ]
        },
        {
          "output_type": "execute_result",
          "data": {
            "text/plain": [
              "<keras.callbacks.History at 0x7f6b2f2976d0>"
            ]
          },
          "metadata": {},
          "execution_count": 137
        }
      ],
      "source": [
        "model.fit(X_train, y_train, epochs=epochs, verbose=1)"
      ]
    },
    {
      "cell_type": "markdown",
      "source": [
        "# The model reports low losses, but low accuracy too.\n",
        "**Again, this might be due to the nature of the dataset, and the high correlativity between the variables.**"
      ],
      "metadata": {
        "id": "0XRU4fU5nPyT"
      },
      "id": "0XRU4fU5nPyT"
    },
    {
      "cell_type": "code",
      "source": [],
      "metadata": {
        "id": "UD0fXyAgl2BM"
      },
      "id": "UD0fXyAgl2BM",
      "execution_count": null,
      "outputs": []
    }
  ],
  "metadata": {
    "kernelspec": {
      "display_name": "Python 3 (ipykernel)",
      "language": "python",
      "name": "python3"
    },
    "language_info": {
      "codemirror_mode": {
        "name": "ipython",
        "version": 3
      },
      "file_extension": ".py",
      "mimetype": "text/x-python",
      "name": "python",
      "nbconvert_exporter": "python",
      "pygments_lexer": "ipython3",
      "version": "3.9.12"
    },
    "colab": {
      "provenance": []
    }
  },
  "nbformat": 4,
  "nbformat_minor": 5
}